{
 "cells": [
  {
   "cell_type": "markdown",
   "id": "f3065c35",
   "metadata": {},
   "source": [
    "# 🧹 CCUS Projects Data Cleaning Notebook\n",
    "\n",
    "This notebook supports the development of the **CCUS Projects Dashboard** by preparing a clean and analysis-ready dataset from the original IEA CCUS Projects Database.\n",
    "\n",
    "## 📌 Objectives\n",
    "\n",
    "- Load and inspect the raw dataset\n",
    "- Identify and handle missing or inconsistent values\n",
    "- Standardize column names and data formats\n",
    "- Parse key fields (e.g., dates, MtCO₂ capacity)\n",
    "- Filter or recode categorical fields for dashboard use\n",
    "- Export a cleaned `.csv` for Tableau visualization\n",
    "\n",
    "## 🛠️ Tools Used\n",
    "\n",
    "- `pandas` for data manipulation\n",
    "- `numpy` for handling nulls and type conversion\n",
    "- `openpyxl` for loading Excel files (if `.xlsx`)\n",
    "- (Optional) `matplotlib` or `seaborn` for quick exploratory charts\n",
    "\n",
    "---\n",
    "\n",
    "> Dataset Source: [IEA CCUS Projects Database](https://www.iea.org/data-and-statistics/data-product/ccus-projects-database)  \n",
    "> Last updated: April 30, 2025  \n",
    "> License: [IEA Terms of Use](https://www.iea.org/terms)"
   ]
  },
  {
   "cell_type": "code",
   "execution_count": 2,
   "id": "24150355",
   "metadata": {},
   "outputs": [],
   "source": [
    "# 📦 Import standard libraries\n",
    "import pandas as pd\n",
    "import numpy as np\n",
    "\n",
    "# 📊 (Optional) For quick visual checks\n",
    "import matplotlib.pyplot as plt\n",
    "import seaborn as sns\n",
    "\n",
    "# 📁 For handling Excel files (if needed)\n",
    "import openpyxl  # required for reading .xlsx files with pd.read_excel()\n",
    "\n",
    "# 🔧 Display options for better readability\n",
    "pd.set_option('display.max_columns', None)\n",
    "pd.set_option('display.max_rows', 100)"
   ]
  },
  {
   "cell_type": "code",
   "execution_count": 3,
   "id": "d57c46a8",
   "metadata": {},
   "outputs": [],
   "source": [
    "# Read in Excel file\n",
    "\n",
    "df = pd.read_excel('../data/ccus_projects_raw.xlsx', sheet_name=\"CCUS Projects Database\")\n"
   ]
  },
  {
   "cell_type": "code",
   "execution_count": 4,
   "id": "956733ff",
   "metadata": {},
   "outputs": [],
   "source": [
    "# Removing columns we do not need\n",
    "\n",
    "df.drop([\n",
    "    'Project name', 'ID', 'Partners', 'Announcement', 'FID',\n",
    "    'Part of CCUS hub','Ref 1', 'Ref 2', 'Ref 3', 'Ref 4', 'Ref 5',\n",
    "    'Ref 6', 'Ref 7', 'Link 1', 'Link 2', 'Link 3', 'Link 4', 'Link 5',\n",
    "    'Link 6', 'Link 7'\n",
    "], axis=1, inplace=True)\n"
   ]
  },
  {
   "cell_type": "code",
   "execution_count": 16,
   "id": "1036388d",
   "metadata": {},
   "outputs": [],
   "source": [
    "# Saving the dataframe as Excel\n",
    "\n",
    "df.to_excel('../data/ccus_projects_raw.x', index=False)"
   ]
  },
  {
   "cell_type": "code",
   "execution_count": null,
   "id": "878fb67e",
   "metadata": {},
   "outputs": [],
   "source": []
  }
 ],
 "metadata": {
  "kernelspec": {
   "display_name": "Python 3 (ipykernel)",
   "language": "python",
   "name": "python3"
  },
  "language_info": {
   "codemirror_mode": {
    "name": "ipython",
    "version": 3
   },
   "file_extension": ".py",
   "mimetype": "text/x-python",
   "name": "python",
   "nbconvert_exporter": "python",
   "pygments_lexer": "ipython3",
   "version": "3.10.9"
  },
  "varInspector": {
   "cols": {
    "lenName": 16,
    "lenType": 16,
    "lenVar": 40
   },
   "kernels_config": {
    "python": {
     "delete_cmd_postfix": "",
     "delete_cmd_prefix": "del ",
     "library": "var_list.py",
     "varRefreshCmd": "print(var_dic_list())"
    },
    "r": {
     "delete_cmd_postfix": ") ",
     "delete_cmd_prefix": "rm(",
     "library": "var_list.r",
     "varRefreshCmd": "cat(var_dic_list()) "
    }
   },
   "types_to_exclude": [
    "module",
    "function",
    "builtin_function_or_method",
    "instance",
    "_Feature"
   ],
   "window_display": false
  }
 },
 "nbformat": 4,
 "nbformat_minor": 5
}
